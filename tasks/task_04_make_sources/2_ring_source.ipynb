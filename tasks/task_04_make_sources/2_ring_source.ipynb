{
 "cells": [
  {
   "attachments": {},
   "cell_type": "markdown",
   "metadata": {},
   "source": [
    "# Part 1 - Ring source plotting\n",
    "\n",
    "This python notebook shows users how to make a simple ring source in OpenMC and plot the position of source particles."
   ]
  },
  {
   "attachments": {},
   "cell_type": "markdown",
   "metadata": {},
   "source": [
    "We will make use of the CylindricalIndependent source as described in the docs\n",
    "https://docs.openmc.org/en/stable/pythonapi/generated/openmc.stats.CylindricalIndependent.html\n",
    "\n",
    "The CylindricalIndependent source can make makes a ring shaped source with the corect inputs.\n",
    "- The r value (distribution of radius values)\n",
    "- The phi value (distribution of azimuthal angle values)\n",
    "- The z value (distribution of z values on the z axis)\n",
    "\n",
    "Each of these inputs must be a univariate probability disitribution."
   ]
  },
  {
   "attachments": {},
   "cell_type": "markdown",
   "metadata": {},
   "source": [
    "OpenMC has several built in distributions for popular distributions such as Normal, Maxwell and others.\n",
    "\n",
    "See the full list here https://docs.openmc.org/en/stable/pythonapi/stats.html#univariate-probability-distributions\n",
    "\n",
    "In this example we are going to make use of the Uniform disitrbution by feel free to tinker with the differnt distributions an make your own source."
   ]
  },
  {
   "cell_type": "code",
   "execution_count": 1,
   "metadata": {},
   "outputs": [
    {
     "ename": "ModuleNotFoundError",
     "evalue": "No module named 'openmc_source_plotter'",
     "output_type": "error",
     "traceback": [
      "\u001b[0;31m---------------------------------------------------------------------------\u001b[0m",
      "\u001b[0;31mModuleNotFoundError\u001b[0m                       Traceback (most recent call last)",
      "Cell \u001b[0;32mIn[1], line 7\u001b[0m\n\u001b[1;32m      2\u001b[0m openmc\u001b[38;5;241m.\u001b[39mconfig[\u001b[38;5;124m'\u001b[39m\u001b[38;5;124mcross_sections\u001b[39m\u001b[38;5;124m'\u001b[39m] \u001b[38;5;241m=\u001b[39m \u001b[38;5;124m'\u001b[39m\u001b[38;5;124m/home/nuclearkid/openmc_conda/openmc_data/endfb80/endfb-viii.0-hdf5/cross_sections.xml\u001b[39m\u001b[38;5;124m'\u001b[39m\n\u001b[1;32m      4\u001b[0m \u001b[38;5;66;03m# provides simple source plotting functions\u001b[39;00m\n\u001b[1;32m      5\u001b[0m \u001b[38;5;66;03m# for more details here is a link to the package repository\u001b[39;00m\n\u001b[1;32m      6\u001b[0m \u001b[38;5;66;03m# https://github.com/fusion-energy/openmc_source_plotter\u001b[39;00m\n\u001b[0;32m----> 7\u001b[0m \u001b[38;5;28;01mfrom\u001b[39;00m \u001b[38;5;21;01mopenmc_source_plotter\u001b[39;00m \u001b[38;5;28;01mimport\u001b[39;00m plot_source_position\n",
      "\u001b[0;31mModuleNotFoundError\u001b[0m: No module named 'openmc_source_plotter'"
     ]
    }
   ],
   "source": [
    "import openmc\n",
    "openmc.config['cross_sections'] = '/home/nuclearkid/openmc_conda/openmc_data/endfb80/endfb-viii.0-hdf5/cross_sections.xml'\n",
    "\n",
    "# provides simple source plotting functions\n",
    "# for more details here is a link to the package repository\n",
    "# https://github.com/fusion-energy/openmc_source_plotter\n",
    "from openmc_source_plotter import plot_source_position\n",
    "\n"
   ]
  },
  {
   "cell_type": "code",
   "execution_count": null,
   "metadata": {},
   "outputs": [],
   "source": [
    "\n",
    "# initialises a new source object\n",
    "my_source = openmc.IndependentSource()\n",
    "\n",
    "# the distribution of radius is just a single value\n",
    "radius = openmc.stats.Discrete([10], [1])\n",
    "\n",
    "# the distribution of source z values is just a single value\n",
    "z_values = openmc.stats.Discrete([0], [1])\n",
    "\n",
    "# the distribution of source azimuthal angles values is a uniform distribution between 0 and 2 Pi\n",
    "angle = openmc.stats.Uniform(a=0., b=2* 3.14159265359)\n",
    "\n",
    "# this makes the ring source using the three distributions and a radius\n",
    "my_source.space = openmc.stats.CylindricalIndependent(r=radius, phi=angle, z=z_values, origin=(0.0, 0.0, 0.0))\n",
    "\n",
    "# sets the direction to isotropic\n",
    "my_source.angle = openmc.stats.Isotropic()\n",
    "\n",
    "# sets the energy distribution to a Muir distribution neutrons\n",
    "my_source.energy = openmc.stats.muir(e0=14080000.0, m_rat=5.0, kt=20000.0)"
   ]
  },
  {
   "attachments": {},
   "cell_type": "markdown",
   "metadata": {},
   "source": [
    "this next code block runs openmc and creates a file containing information on the initial particles. The position information is the extracted and plotted"
   ]
  },
  {
   "cell_type": "code",
   "execution_count": null,
   "metadata": {},
   "outputs": [],
   "source": [
    "plot_source_position(my_source)"
   ]
  },
  {
   "attachments": {},
   "cell_type": "markdown",
   "metadata": {},
   "source": [
    "This is closer to looking like a plasma compared to a point source but the distribution of spatial distribution can be improved in the next task"
   ]
  },
  {
   "cell_type": "code",
   "execution_count": null,
   "metadata": {},
   "outputs": [],
   "source": [
    "# these plotting methods can also be run if you are interested in energy or direction\n",
    "# they will need importing from the openmc_source_plotter package\n",
    "# plot_source_energy(my_source)\n",
    "# plot_source_direction(my_source)"
   ]
  },
  {
   "attachments": {},
   "cell_type": "markdown",
   "metadata": {},
   "source": [
    "For convenience a plasma source package has been made that wraps openmc.IndependentSource and provides easy creation of ring (and other) fusion sources.\n",
    "https://github.com/fusion-energy/openmc-plasma-source you could try plotting the position of this source"
   ]
  }
 ],
 "metadata": {
  "interpreter": {
   "hash": "5bd4b41850c31a1d72163a729a4c4fa5fa95797eb7378d3a268e56354026bb3c"
  },
  "kernelspec": {
   "display_name": "Python 3 (ipykernel)",
   "language": "python",
   "name": "python3"
  },
  "language_info": {
   "codemirror_mode": {
    "name": "ipython",
    "version": 3
   },
   "file_extension": ".py",
   "mimetype": "text/x-python",
   "name": "python",
   "nbconvert_exporter": "python",
   "pygments_lexer": "ipython3",
   "version": "3.12.5"
  }
 },
 "nbformat": 4,
 "nbformat_minor": 4
}
